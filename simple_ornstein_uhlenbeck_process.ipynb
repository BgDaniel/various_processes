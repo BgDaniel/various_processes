{
 "cells": [
  {
   "cell_type": "code",
   "execution_count": null,
   "metadata": {},
   "outputs": [],
   "source": [
    "Ornstein-Uhlenbeck Process"
   ]
  },
  {
   "cell_type": "code",
   "execution_count": null,
   "metadata": {},
   "outputs": [],
   "source": [
    "import math\n",
    "import numpy as np\n",
    "import matplotlib.pyplot as plt\n",
    "\n",
    "T = 2.0\n",
    "nb_simu = 2000\n",
    "nb_time = 200\n",
    "nu = .2\n",
    "Y0 = .0\n",
    "dt = T / float(nb_time)\n",
    "dt_sqrt = math.sqrt(dt)\n",
    "dW_t = np.random.normal(size=(nb_simu,nb_time)) * dt_sqrt\n",
    "beta = 0.8\n",
    "\n",
    "Y = np.zeros((nb_simu, nb_time))\n",
    "t = np.arange(0, T, dt)\n",
    "\n",
    "for i in range(0, nb_simu):\n",
    "    Y[i][0] = Y0\n",
    "  \n",
    "for i in range(0, nb_simu):\n",
    "    for j in range(1, nb_time):\n",
    "        Y[i][j] = Y[i][j-1] - beta * Y[i][j-1] * dt + nu * dW_t[i, j]\n",
    "        \n",
    "for i in range(0, 20):\n",
    "    plt.plot(Y[i], color='red')\n",
    "    \n",
    "plt.show()\n",
    "\n",
    "mean_emp = np.zeros((nb_time))\n",
    "var_emp = np.zeros((nb_time))\n",
    "\n",
    "var_theo = nu * nu / (2.0 * beta) * (1.0 - np.exp(- 2.0 * beta * t))\n",
    "\n",
    "for i in range(0, nb_time):\n",
    "    mean_emp[i] = np.mean(Y[:,i])\n",
    "    var_emp[i] = np.var(Y[:,i])\n",
    "    \n",
    "plt.plot(mean_emp, color='red', label='mean emp')\n",
    "plt.legend()\n",
    "plt.ylim(-0.05, 0.05)\n",
    "plt.show()\n",
    "\n",
    "plt.plot(var_emp, color='blue', label='var emp')\n",
    "plt.plot(var_theo, color='green', label='var theo')\n",
    "plt.legend()\n",
    "plt.ylim(0, 1.1 * max(var_theo))\n",
    "plt.show()"
   ]
  }
 ],
 "metadata": {
  "kernelspec": {
   "display_name": "Python 3",
   "language": "python",
   "name": "python3"
  },
  "language_info": {
   "codemirror_mode": {
    "name": "ipython",
    "version": 3
   },
   "file_extension": ".py",
   "mimetype": "text/x-python",
   "name": "python",
   "nbconvert_exporter": "python",
   "pygments_lexer": "ipython3",
   "version": "3.8.3"
  }
 },
 "nbformat": 4,
 "nbformat_minor": 4
}
